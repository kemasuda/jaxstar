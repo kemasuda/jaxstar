{
 "cells": [
  {
   "cell_type": "markdown",
   "id": "e8946a90",
   "metadata": {},
   "source": [
    "### fitting J mag, H mag, Ks mag, and parallax"
   ]
  },
  {
   "cell_type": "code",
   "execution_count": 1,
   "id": "ed51a33f",
   "metadata": {},
   "outputs": [],
   "source": [
    "from jaxstar import mistfit\n",
    "from jax import random\n",
    "import arviz, corner\n",
    "import pandas as pd"
   ]
  },
  {
   "cell_type": "code",
   "execution_count": 2,
   "id": "2466c4ce",
   "metadata": {},
   "outputs": [],
   "source": [
    "%matplotlib inline"
   ]
  },
  {
   "cell_type": "code",
   "execution_count": 3,
   "id": "6f7d468f",
   "metadata": {},
   "outputs": [],
   "source": [
    "mf = mistfit.MistFit()"
   ]
  },
  {
   "cell_type": "code",
   "execution_count": 4,
   "id": "3b0823d1",
   "metadata": {},
   "outputs": [],
   "source": [
    "# observed Kmag, Teff, Fe/H, parallax (mas)\n",
    "jmag_obs, jmag_err, hmag_obs, hmag_err, kmag_obs, kmag_err, parallax_obs, parallax_err\\\n",
    "= [ 7.844, 0.021, 7.255, 0.020, 7.104, 0.017, 35.666, 0.014]"
   ]
  },
  {
   "cell_type": "code",
   "execution_count": 5,
   "id": "11f37fba",
   "metadata": {},
   "outputs": [],
   "source": [
    "# probably need to know Fe/H for accurete modeling\n",
    "feh_est, feh_err = -0.58, 0.18"
   ]
  },
  {
   "cell_type": "code",
   "execution_count": 6,
   "id": "9ab2dace",
   "metadata": {},
   "outputs": [],
   "source": [
    "mf.set_data(['jmag', 'hmag', 'kmag', 'parallax', 'feh'],\\\n",
    "            [jmag_obs, hmag_obs, kmag_obs, parallax_obs, feh_est],\\\n",
    "            [jmag_err, hmag_err, kmag_err, parallax_err, feh_err])"
   ]
  },
  {
   "cell_type": "code",
   "execution_count": 7,
   "id": "d265eb61",
   "metadata": {},
   "outputs": [],
   "source": [
    "# setup HMC\n",
    "ns = 5000\n",
    "mf.setup_hmc(num_warmup=ns, num_samples=ns)"
   ]
  },
  {
   "cell_type": "code",
   "execution_count": 8,
   "id": "fee01810",
   "metadata": {},
   "outputs": [
    {
     "name": "stderr",
     "output_type": "stream",
     "text": [
      "sample: 100%|█████████████████████████████████| 10000/10000 [00:15<00:00, 653.08it/s, 219 steps of size 4.86e-03. acc. prob=0.96]\n"
     ]
    },
    {
     "name": "stdout",
     "output_type": "stream",
     "text": [
      "\n",
      "                mean       std    median      5.0%     95.0%     n_eff     r_hat\n",
      "       age      6.90      3.87      6.93      0.34     12.41    805.89      1.00\n",
      "  distance      0.03      0.00      0.03      0.03      0.03   3935.19      1.00\n",
      "       eep    315.55     23.07    322.93    282.84    340.48    665.25      1.00\n",
      "       feh     -0.61      0.11     -0.61     -0.77     -0.42   1378.55      1.00\n",
      "\n",
      "Number of divergences: 0\n"
     ]
    }
   ],
   "source": [
    "# run\n",
    "rng_key = random.PRNGKey(0)\n",
    "mf.run_hmc(rng_key, linear_age=True, flat_age_marginal=False, nodata=False)"
   ]
  },
  {
   "cell_type": "code",
   "execution_count": 9,
   "id": "ee133f0b",
   "metadata": {},
   "outputs": [],
   "source": [
    "mcmc = mf.mcmc\n",
    "samples = mf.samples"
   ]
  },
  {
   "cell_type": "code",
   "execution_count": null,
   "id": "a8db3ede",
   "metadata": {},
   "outputs": [],
   "source": [
    "# trace plot\n",
    "fig = arviz.plot_trace(mcmc, var_names=mf.obskeys)"
   ]
  },
  {
   "cell_type": "code",
   "execution_count": null,
   "id": "c80acc39",
   "metadata": {},
   "outputs": [],
   "source": [
    "# keys and observed values for corner plot\n",
    "outkeys = mf.obskeys + ['mass', 'radius', 'age', 'teff', 'logg', 'eep']\n",
    "obsvals = mf.obsvals + [None] * (len(outkeys) - len(mf.obskeys))"
   ]
  },
  {
   "cell_type": "code",
   "execution_count": null,
   "id": "ff7a9d4d",
   "metadata": {},
   "outputs": [],
   "source": [
    "params = pd.DataFrame(data=dict(zip(outkeys, [samples[k] for k in outkeys])))\n",
    "fig = corner.corner(params, show_titles=\"%.2f\", truths=obsvals)"
   ]
  },
  {
   "cell_type": "code",
   "execution_count": null,
   "id": "7e5336d7",
   "metadata": {},
   "outputs": [],
   "source": []
  }
 ],
 "metadata": {
  "kernelspec": {
   "display_name": "py38",
   "language": "python",
   "name": "py38"
  },
  "language_info": {
   "codemirror_mode": {
    "name": "ipython",
    "version": 3
   },
   "file_extension": ".py",
   "mimetype": "text/x-python",
   "name": "python",
   "nbconvert_exporter": "python",
   "pygments_lexer": "ipython3",
   "version": "3.8.13"
  }
 },
 "nbformat": 4,
 "nbformat_minor": 5
}
